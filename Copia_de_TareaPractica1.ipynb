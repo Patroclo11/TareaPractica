{
  "cells": [
    {
      "cell_type": "markdown",
      "metadata": {
        "id": "view-in-github",
        "colab_type": "text"
      },
      "source": [
        "<a href=\"https://colab.research.google.com/github/Patroclo11/TareaPractica/blob/main/Copia_de_TareaPractica1.ipynb\" target=\"_parent\"><img src=\"https://colab.research.google.com/assets/colab-badge.svg\" alt=\"Open In Colab\"/></a>"
      ]
    },
    {
      "cell_type": "markdown",
      "metadata": {
        "id": "tDMn92ZEhLHF"
      },
      "source": [
        "<h1 align=\"center\">Física Computacional.</h1>\n",
        "<h1 align=\"center\">Semestre 2014-1</h1>\n",
        "\n",
        "<h2>Sergio A. Alcalá Corona </h2>\n",
        "\n",
        "---\n",
        "### Daniel Rojo Mata\n",
        "### Rodrigo Vega Vilchis\n",
        "---"
      ]
    },
    {
      "cell_type": "markdown",
      "metadata": {
        "id": "QDuKI7BJhLHH"
      },
      "source": [
        "<h1 align=\"center\">Programación para la física computacional</h1>\n",
        "\n",
        "## Práctica 1.  Programación para la física computacional\n",
        "\n",
        "\n",
        "### Programación básica para la física\n",
        "\n",
        "---"
      ]
    },
    {
      "cell_type": "markdown",
      "metadata": {
        "id": "oLCiCEpIhLHI"
      },
      "source": [
        "### EJERCICIOS:"
      ]
    },
    {
      "cell_type": "markdown",
      "metadata": {
        "id": "FYFn4eeUhLHI"
      },
      "source": [
        "**1. Caida de una pelota desde una torre:** Se deja caer una pelota desde una torre de altura $h$. Tiene velocidad inicial cero y acelera hacia abajo con la gravedad.\n",
        "\n",
        "Escribe un programa que le pida al usuario que ingrese la altura en metros de la torre y luego calcule e imprima el tiempo en segundos hasta que la pelota toque el suelo (ignora la resistencia del aire).\n",
        "    \n",
        "Después, usa tu programa para calcular el tiempo de una pelota lanzada desde una torre de $100m$ de altura."
      ]
    },
    {
      "cell_type": "code",
      "execution_count": null,
      "metadata": {
        "id": "cbJZGRNvhLHI"
      },
      "outputs": [],
      "source": []
    },
    {
      "cell_type": "code",
      "execution_count": null,
      "metadata": {
        "id": "xS091n_jhLHJ"
      },
      "outputs": [],
      "source": []
    },
    {
      "cell_type": "markdown",
      "metadata": {
        "id": "XGY9uqCzhLHJ"
      },
      "source": []
    },
    {
      "cell_type": "markdown",
      "metadata": {
        "id": "JhDpJwhChLHJ"
      },
      "source": [
        "**2. Altitud de un satélite**: se va a lanzar un satélite en una órbita circular alrededor de la Tierra de modo que orbite el planeta una vez cada $T$ segundos."
      ]
    },
    {
      "cell_type": "markdown",
      "metadata": {
        "id": "mfZ5YhephLHJ"
      },
      "source": [
        "(a) Demuestre que la altitud $h$ sobre la superficie de la Tierra que debe tener el satélite es:\n",
        "\n",
        "<h3 align=\"center\">$h = \\biggl( {GMT^2\\over4\\pi^2} \\biggr)^{1/3} - R$,</h3>\n",
        "\n",
        "donde $G=6.67\\times10^{-11}\\,\\textrm{m}^3\\,\\textrm{kg}^{-1}\\,\\textrm{s}^{-2}$ es la constante gravitatoria de Newton, $M=5.97\\times10^{24}\\,$kg es la masa de la Tierra y $R=6371\\,$km  es su radio.\n",
        "\n"
      ]
    },
    {
      "cell_type": "code",
      "execution_count": null,
      "metadata": {
        "id": "PokxUEhhhLHK"
      },
      "outputs": [],
      "source": []
    },
    {
      "cell_type": "code",
      "execution_count": null,
      "metadata": {
        "id": "IXE-hRMfhLHK"
      },
      "outputs": [],
      "source": []
    },
    {
      "cell_type": "markdown",
      "metadata": {
        "id": "DTqgIEXmhLHK"
      },
      "source": [
        "(b) Escribe un programa que le pida al usuario que ingrese el valor deseado de $T$ y luego calcula e imprima la altitud correcta en metros."
      ]
    },
    {
      "cell_type": "code",
      "execution_count": null,
      "metadata": {
        "id": "kretjB1FhLHK"
      },
      "outputs": [],
      "source": []
    },
    {
      "cell_type": "code",
      "source": [
        "import math\n",
        "\n",
        "def altitud(T):\n",
        "    G = 6.67430e-11  # Constante gravitatoria en m^3/kg/s^2\n",
        "    M = 5.972e24     # Masa de la Tierra en kg\n",
        "    R = 6371e3       # Radio de la Tierra en metros\n",
        "\n",
        "    h = ((G * M * T**2) / (4 * math.pi**2))**(1/3) - R\n",
        "    return h\n",
        "\n",
        "def main():\n",
        "    while True:\n",
        "        try:\n",
        "            T = float(input(\"Ingresa el valor de T en segundos: \"))\n",
        "            if T <= 0:\n",
        "                print(\"El valor de T debe ser positivo y mayor que 0. Inténtalo nuevamente.\")\n",
        "            else:\n",
        "                altitud0 = altitud(T)\n",
        "                if altitud0 < 0:\n",
        "                    print(\"El tiempo T es demasiado pequeño para mantener una órbita estable.\")\n",
        "                else:\n",
        "                    print(f\"Altitud necesaria: {altitud0:.2f} metros\")\n",
        "                break  # Salir del bucle si el valor de T es válido\n",
        "        except ValueError:\n",
        "            print(\"Ingresa un valor numérico válido.\")\n",
        "\n",
        "\n",
        "if __name__ == \"__main__\":\n",
        "    main()\n"
      ],
      "metadata": {
        "colab": {
          "base_uri": "https://localhost:8080/"
        },
        "id": "Axp5bCzVHrfC",
        "outputId": "baf8c15a-4dc5-438f-909d-c8ce9a414198"
      },
      "execution_count": 54,
      "outputs": [
        {
          "output_type": "stream",
          "name": "stdout",
          "text": [
            "Ingresa el valor de T en segundos: a\n",
            "Ingresa un valor numérico válido.\n",
            "Ingresa el valor de T en segundos: 52031\n",
            "Altitud necesaria: 23751895.18 metros\n"
          ]
        }
      ]
    },
    {
      "cell_type": "markdown",
      "metadata": {
        "id": "WPp5SNYwhLHK"
      },
      "source": [
        "(c) Utiliza tu programa para calcular las altitudes de los satélites que orbitan la Tierra una vez al día (la llamada órbita *geoestacionaria*), una vez cada **90 minutos** y una vez cada **45 minutos**. ¿Qué concluyes de este último cálculo?"
      ]
    },
    {
      "cell_type": "code",
      "execution_count": 14,
      "metadata": {
        "id": "LveBmXNkhLHK",
        "colab": {
          "base_uri": "https://localhost:8080/"
        },
        "outputId": "0e659e0f-aefe-4a43-cc27-81c2ae54cd53"
      },
      "outputs": [
        {
          "output_type": "stream",
          "name": "stdout",
          "text": [
            "Altitud para órbita de 1 día: 35869.70 km\n",
            "Altitud para órbita de 90 minutos: 281.49 km\n",
            "Altitud para órbita de 45 minutos: -2180.19 Km\n",
            "Te preguntaras, ¿Porqué para un periodo de 45 minutos hay una altitud negativa?\n",
            "Esto pasa porque una orbita de 45 minutos no sería estable debido a la velocidad tan alta y la proximidad a la tierra\n"
          ]
        }
      ],
      "source": []
    },
    {
      "cell_type": "code",
      "source": [
        "def altitud(T):\n",
        "    G = 6.67430e-11\n",
        "    M = 5.972e24\n",
        "    R = 6371e3\n",
        "    h = ((G * M * T**2) / (4 * math.pi**2))**(1/3) - R\n",
        "    return h/1000\n",
        "\n",
        "\n",
        "\n",
        "periodo1= 24 * 60 * 60  # Un día en segundos\n",
        "\n",
        "periodo2 = 90 * 60    # 90 minutos en segundos                # Períodos en segundos para las órbitas deseadas\n",
        "\n",
        "periodo3 = 45 * 60    # 45 minutos en segundos\n",
        "\n",
        "\n",
        "\n",
        "altitud1 = altitud(periodo1)\n",
        "\n",
        "altitud2 = altitud(periodo2)                   # Calculamos las altitudes para los diferentes períodos\n",
        "\n",
        "altitud3 = altitud(periodo3)\n",
        "\n",
        "print(f\"Altitud para órbita de 1 día: {altitud1:.2f} km\")\n",
        "print(f\"Altitud para órbita de 90 minutos: {altitud2:.2f} km\")          #imprimimos las altitudes para cada periodo\n",
        "print(f\"Altitud para órbita de 45 minutos: {altitud3:.2f} Km\")\n",
        "\n",
        "\n",
        "print(\"Te preguntaras, ¿Porqué para un periodo de 45 minutos hay una altitud negativa?\")\n",
        "print(\"Esto pasa porque una orbita de 45 minutos no sería estable debido a la velocidad tan alta y la proximidad a la tierra\")\n",
        "\n"
      ],
      "metadata": {
        "colab": {
          "base_uri": "https://localhost:8080/"
        },
        "id": "yyJvnhsUIfm_",
        "outputId": "41e312f0-6a01-4b1f-8688-40e75cb29060"
      },
      "execution_count": 51,
      "outputs": [
        {
          "output_type": "stream",
          "name": "stdout",
          "text": [
            "Altitud para órbita de 1 día: 35869.70 km\n",
            "Altitud para órbita de 90 minutos: 281.49 km\n",
            "Altitud para órbita de 45 minutos: -2180.19 Km\n",
            "Te preguntaras, ¿Porqué para un periodo de 45 minutos hay una altitud negativa?\n",
            "Esto pasa porque una orbita de 45 minutos no sería estable debido a la velocidad tan alta y la proximidad a la tierra\n"
          ]
        }
      ]
    },
    {
      "cell_type": "markdown",
      "metadata": {
        "id": "5MdtqnGVhLHL"
      },
      "source": [
        "**3. Relatividad especial:** Una nave espacial viaja desde la Tierra en línea recta a una velocidad relativista $v$ a otro planeta a $x$ años luz de distancia.\n",
        "\n",
        " Escribe un programa que le pida al usuario el valor de $x$ y la velocidad $v$ como una fracción de la velocidad de la luz $c$, y que imprima el tiempo en años que tarda la nave espacial en llegar a su destino"
      ]
    },
    {
      "cell_type": "markdown",
      "metadata": {
        "id": "l1LT1HxehLHL"
      },
      "source": [
        "a) en el marco de reposo de un observador en la Tierra y"
      ]
    },
    {
      "cell_type": "code",
      "source": [
        "def TVT(d_al, velocidad_fraccion_c):\n",
        "    if d_al <= 0 or velocidad_fraccion_c <= 0 or velocidad_fraccion_c >= 1:         # Devuelve None si alguno de los valores es cero\n",
        "        return None\n",
        "\n",
        "\n",
        "    c = 3e8                                                                         # Velocidad de la luz en metros por segundo\n",
        "\n",
        "\n",
        "    distancia_metros = d_al * 9.461e15                                              # Convertir la distancia de años luz a metros\n",
        "\n",
        "\n",
        "    factor_lorentz = 1 / (1 - velocidad_fraccion_c**2)**0.5                         # Calcular el factor de Lorentz\n",
        "\n",
        "\n",
        "    tiempo_segundos_marco_reposo = distancia_metros / (velocidad_fraccion_c * c)    # Calcular el tiempo en segundos en el marco de reposo\n",
        "\n",
        "\n",
        "    tiempoS = tiempo_segundos_marco_reposo * factor_lorentz                         # Calcular el tiempo en segundos medido por el observador en movimiento\n",
        "\n",
        "\n",
        "    tiempoA = tiempoS / (60 * 60 * 24 * 365.25)                                     # Convertir el tiempo de segundos a años\n",
        "\n",
        "    return tiempoA\n",
        "\n",
        "# Solicitar al usuario el valor de x (distancia en años luz) y v (velocidad como fracción de c)\n",
        "\n",
        "d_al = float(input(\"Ingresa la distancia a años luz: \"))\n",
        "velocidad_fraccion_c = float(input(\"Ingresa la velocidad como fracción de la velocidad de la luz(por ejemplo: 0.8 para el 80 %): \"))\n",
        "\n",
        "# Calcular el tiempo de viaje en el marco de reposo\n",
        "\n",
        "tiempo_viaje = TVT (d_al, velocidad_fraccion_c)\n",
        "\n",
        "if tiempo_viaje is None:\n",
        "   print(\"Los valores ingresados no son válidos, recuerda que debes ingresar la velocidad como fracción de la velocidad de la luz.\")\n",
        "else:\n",
        "  print(f\"El tiempo de viaje en el marco de reposo es de {tiempo_viaje:.2f} años.\")\n"
      ],
      "metadata": {
        "colab": {
          "base_uri": "https://localhost:8080/"
        },
        "id": "FoRqKdLF7zjK",
        "outputId": "3fb13928-59a1-440a-cbd3-131dc67623da"
      },
      "execution_count": 41,
      "outputs": [
        {
          "output_type": "stream",
          "name": "stdout",
          "text": [
            "Ingresa la distancia a años luz: 0\n",
            "Ingresa la velocidad como fracción de la velocidad de la luz(por ejemplo: 0.8 para el 80 %): 0\n",
            "Los valores ingresados no son válidos, recuerda que debes ingresar la velocidad como fracción de la velocidad de la luz.\n"
          ]
        }
      ]
    },
    {
      "cell_type": "markdown",
      "metadata": {
        "id": "dgYtKNzAhLHL"
      },
      "source": [
        "b) como lo percibiría un pasajero a bordo de la nave."
      ]
    },
    {
      "cell_type": "code",
      "execution_count": null,
      "metadata": {
        "id": "2ceUvJ5thLHL"
      },
      "outputs": [],
      "source": []
    },
    {
      "cell_type": "code",
      "source": [
        "def T_vp(d_al, velocidad_fraccion_c):\n",
        "\n",
        "    if d_al <= 0 or velocidad_fraccion_c <= 0 or velocidad_fraccion_c >= 1:\n",
        "        return None  # Devuelve None si alguno de los valores es cero\n",
        "\n",
        "    c = 3e8\n",
        "\n",
        "    distancia_metros = distancia_años_luz * 9.461e15                  #Convertimos la distancia de años luz a metros.\n",
        "\n",
        "\n",
        "    factor_lorentz = 1 / (1 - velocidad_fraccion_c**2)**0.5           #Calculamos el factor de lorentz\n",
        "\n",
        "\n",
        "    tiempo_segundos_pasajero = distancia_metros / (velocidad_fraccion_c * c * factor_lorentz)    #tiempo en segundos desde el pasajero\n",
        "\n",
        "\n",
        "    tiempo_años = tiempo_segundos_pasajero / (60 * 60 * 24 * 365.25)       #convertimos de segundos a años\n",
        "\n",
        "    return tiempo_años\n",
        "\n",
        "d_al = float(input(\"Ingresa la distancia a años luz: \"))\n",
        "velocidad_fraccion_c = float(input(\"Ingresa la velocidad como fracción de la velocidad de la luz(por ejemplo: 0.8 para el 80 %): \"))\n",
        "\n",
        "tiempo_viaje_pasajero_años = T_vp(d_al, velocidad_fraccion_c)\n",
        "\n",
        "if tiempo_viaje_pasajero_años is None:\n",
        "    print(\"Los valores ingresados no son válidos, recuerda que debes ingresar la velocidad como fracción de la velocidad de la luz.\")\n",
        "else:\n",
        "    print(f\"El tiempo de viaje percibido por el pasajero es de {tiempo_viaje_pasajero_años:.2f} años.\")\n"
      ],
      "metadata": {
        "colab": {
          "base_uri": "https://localhost:8080/"
        },
        "id": "vfcYX8zsAg__",
        "outputId": "82c45c21-c615-4124-df9b-099340b52b68"
      },
      "execution_count": 37,
      "outputs": [
        {
          "output_type": "stream",
          "name": "stdout",
          "text": [
            "Ingresa la distancia a años luz: 2\n",
            "Ingresa la velocidad como fracción de la velocidad de la luz(por ejemplo: 0.8 para el 80 %): 2\n",
            "Los valores ingresados no son válidos, recuerda que debes ingresar la velocidad como fracción de la velocidad de la luz.\n"
          ]
        }
      ]
    },
    {
      "cell_type": "markdown",
      "metadata": {
        "id": "sxkXc3IjhLHL"
      },
      "source": [
        "Usa tu programa para calcular las respuestas para un planeta a 10 años luz de distancia con $v = 0.99c$"
      ]
    },
    {
      "cell_type": "markdown",
      "metadata": {
        "id": "TfUTUgAJhLHM"
      },
      "source": [
        "**4. Órbitas planetarias:** En el espacio, la órbita de un cuerpo alrededor de otro (como un planeta alrededor del Sol), no necesariamente es circular. En general, toma la forma de una elipse, con el cuerpo a veces más cerca y otras más lejos. Si tenemos la distancia $\\ell_1$ de máxima aproximación de un planeta al Sol (su *perihelio*), y su velocidad lineal $v_1$ en el perihelio, entonces cualquier otra propiedad de la órbita se puede calcular a partir de estas dos cantidades de la siguiente manera:"
      ]
    },
    {
      "cell_type": "markdown",
      "source": [
        "$\\ell_2 v_2 = \\ell_1 v_1$\n",
        "\n",
        "\n",
        "$\\frac{2}{m}$ para eliminar el factor $\\frac{1}{2} m$\n",
        "\n",
        "\n",
        "En cuanto a la afirmación de que $v_2$ es la raíz más pequeña de la ecuación, podemos verificar esto mediante el análisis del discriminante de la ecuación cuadrática. La ecuación cuadrática general $ax^2 + bx + c = 0$ tiene soluciones reales cuando el discriminante $D = b^2 - 4ac$ es no negativo. En este caso, el coeficiente $a = 1$, $b = -\\frac{2 G M}{\\ell_1 v_1}$ y $c = -\\left(v_1^2 - \\frac{2 G M}{\\ell_1}\\right)$.\n",
        "\n",
        "\n",
        "\n",
        "\n",
        "\n",
        "La expresión entre paréntesis es igual a $(\\ell_1 v_1 - G M)^2$, que es siempre no negativa ya que la distancia al Sol y la velocidad son siempre positivas. Por lo tanto, $D$ es siempre positivo, lo que significa que ambas soluciones de la ecuación cuadrática son reales. Dado que el coeficiente de $v_2^2$ es positivo, la solución más pequeña es aquella en la que $v_2$ es menor. Por lo tanto, hemos demostrado que $v_2$ es la raíz más pequeña de la ecuación cuadrática dada.\n",
        "\n",
        "\n",
        "\n",
        "\n",
        "\n",
        "Exacto, una vez que tenemos la velocidad $v_2$ del planeta en el punto más distante (afelio), podemos calcular la distancia $\\ell_2$ utilizando la relación que mencionaste: $\\ell_2 = \\frac{\\ell_1 v_1}{v_2}$.\n",
        "\n",
        "Dado que $\\ell_2 v_2 = \\ell_1 v_1$ (según la segunda ley de Kepler), podemos sustituir $\\ell_2$ por $\\frac{\\ell_1 v_1}{v_2}$:\n",
        "\n",
        "$\\frac{\\ell_1 v_1}{v_2} \\cdot v_2 = \\ell_1 v_1$.\n",
        "\n",
        "Los términos $v_2$ se cancelarán:\n",
        "\n",
        "$\\ell_1 v_1 = \\ell_1 v_1$.\n",
        "\n",
        "Esto confirma que la relación es válida y, por lo tanto, la distancia $\\ell_2$ en el afelio se calcula mediante $\\ell_2 = \\frac{\\ell_1 v_1}{v_2}$ utilizando la velocidad $v_2$ que obtuvimos previamente."
      ],
      "metadata": {
        "id": "yo28qe3bcxtG"
      }
    },
    {
      "cell_type": "markdown",
      "metadata": {
        "id": "gGvpxDathLHM"
      },
      "source": [
        "   \n",
        "**a)** La segunda ley de Kepler nos dice que la distancia $\\ell_2$ y la velocidad $v_2$ del planeta en su punto más distante, o *afelio*, satisfacen que $\\ell_2 v_2 = \\ell_1 v_1$.  Al mismo tiempo, la energía total, cinética más la gravitatoria, de un planeta con velocidad $v$ y distancia $r$ del Sol está dada por:\n",
        "\n",
        "<h3 align=\"center\">$E = \\frac{1}{2} m v^2 - G {mM\\over r}$,</h3>\n",
        "        \n",
        "donde $m$ es la masa del planeta, $M=1.9891\\times10^{30}\\,$kg es la masa del Sol y $G=6.6738\\times10^{-11}\\,\\mathrm{m^3\\,kg^{-1}\\,s^{-2}}$ es la constante gravitatoria de Newton. Dado que la energía debe conservarse, demuestre que $v_2$ es la raíz más pequeña de la ecuación cuadrática:\n",
        "\n",
        "<h3 align=\"center\">$v_2^2 - {2GM\\over v_1\\ell_1} v_2 - \\biggl[ v_1^2 - {2GM\\over\\ell_1} \\biggr] = 0$.</h3>\n",
        "\n",
        "Una vez que tenemos $v_2$ podemos calcular $\\ell_2$  usando la relación $\\ell_2 = \\ell_1 v_1/v_2$."
      ]
    },
    {
      "cell_type": "code",
      "execution_count": null,
      "metadata": {
        "id": "iglkwMqYhLHM"
      },
      "outputs": [],
      "source": []
    },
    {
      "cell_type": "markdown",
      "metadata": {
        "id": "uVQ_WJAahLHM"
      },
      "source": [
        "**b)** Dados los valores de $v_1$, $\\ell_1$, y $\\ell_2$; otros parámetros de la órbita se obtienen mediante fórmulas simples que pueden derivarse de las leyes de Kepler y del hecho de que la órbita es una elipse:\n",
        "\n",
        "<h4 align=\"center\">Semieje mayor: $\\; \\; \\; a = \\frac{1}{2}(\\ell_1+\\ell_2)$,</h4>\n",
        "\n",
        "<h4 align=\"center\">Semieje menor: $\\; \\; \\; b = \\sqrt{\\ell_1\\ell_2}$,</h4>\n",
        "\n",
        "<h4 align=\"center\">Período orbital: $\\; \\; \\; T = {2\\pi ab\\over\\ell_1 v_1}$,</h4>\n",
        "\n",
        "<h4 align=\"center\">Excentricidad orbital: $\\; \\; \\; e = {\\ell_2-\\ell_1\\over\\ell_2+\\ell_1}$.</h4>\n",
        "\n",
        "Escribe un programa que le pida al usuario que ingrese la distancia al Sol y la velocidad en el perihelio; para que calcule e imprima las cantidades:\n",
        "\n",
        "$\\ell_2$, $v_2$, $T$ y $e$."
      ]
    },
    {
      "cell_type": "code",
      "execution_count": null,
      "metadata": {
        "id": "b01TC0BUhLHM"
      },
      "outputs": [],
      "source": []
    },
    {
      "cell_type": "code",
      "source": [
        "import math\n",
        "\n",
        "# Constantes\n",
        "G = 6.6738e-11  # Constante gravitatoria en m^3 kg^-1 s^-2\n",
        "M = 1.9891e30   # Masa del Sol en kg\n",
        "\n",
        "# Función para calcular v2\n",
        "def calculate_v2(v1, ell1):\n",
        "    v2_coefficient = -2 * G * M / (v1 * ell1)\n",
        "    quadratic_a = 1\n",
        "    quadratic_b = v2_coefficient\n",
        "    quadratic_c = v1 ** 2 - 2 * G * M / ell1\n",
        "    discriminant = quadratic_b ** 2 - 4 * quadratic_a * quadratic_c\n",
        "    v2_positive = (-quadratic_b + math.sqrt(discriminant)) / (2 * quadratic_a)\n",
        "    v2_negative = (-quadratic_b - math.sqrt(discriminant)) / (2 * quadratic_a)\n",
        "    return min(v2_positive, v2_negative)\n",
        "\n",
        "# Función principal\n",
        "def main():\n",
        "    # Entrada de usuario\n",
        "    v1 = float(input(\"Ingresa la velocidad en el perihelio (m/s): \"))\n",
        "    ell1 = float(input(\"Ingresa la distancia al Sol en el perihelio (m): \"))\n",
        "\n",
        "    # Cálculo de v2\n",
        "    v2 = calculate_v2(v1, ell1)\n",
        "\n",
        "    # Cálculo de ell2\n",
        "    ell2 = (ell1 * v1) / v2\n",
        "\n",
        "    # Cálculo de otras cantidades\n",
        "    a = 0.5 * (ell1 + ell2)\n",
        "    b = math.sqrt(ell1 * ell2)\n",
        "    T = (2 * math.pi * a * b) / (ell1 * v1)\n",
        "    e = (ell2 - ell1) / (ell2 + ell1)\n",
        "\n",
        "    # Impresión de resultados\n",
        "    print(\"\\nResultados:\")\n",
        "    print(\"ell2:\", ell2)\n",
        "    print(\"v2:\", v2)\n",
        "    print(\"T:\", T)\n",
        "    print(\"e:\", e)\n",
        "\n",
        "# Ejecutar el programa\n",
        "if __name__ == \"__main__\":\n",
        "    main()\n"
      ],
      "metadata": {
        "id": "CGww7wxna1V3"
      },
      "execution_count": null,
      "outputs": []
    },
    {
      "cell_type": "code",
      "execution_count": null,
      "metadata": {
        "id": "X3AdsA9IhLHM"
      },
      "outputs": [],
      "source": []
    },
    {
      "cell_type": "markdown",
      "metadata": {
        "id": "9sdXuYMrhLHM"
      },
      "source": [
        "**c)** Prueba tu programa haciendo que calcule las propiedades de las órbitas de la Tierra (para las cuales $\\ell_1=1.4710\\times10^{11}\\,$m y $v_1=3.0287\\times10^4\\,\\mathrm{m\\,s^{-1}}$)  y del cometa Halley ($\\ell_1=8.7830\\times10^{10}\\,$m y $v_1=5.4529\\times10^4\\,\\mathrm{m\\,s^{-1}}$). Entre otras cosas, deberías encontrar que el período orbital de la Tierra es de un año y el del cometa Halley es de unos 76 años."
      ]
    },
    {
      "cell_type": "code",
      "execution_count": null,
      "metadata": {
        "id": "MCjEjz4jhLHM"
      },
      "outputs": [],
      "source": []
    },
    {
      "cell_type": "code",
      "execution_count": null,
      "metadata": {
        "id": "Uir2GEgdhLHM"
      },
      "outputs": [],
      "source": []
    },
    {
      "cell_type": "markdown",
      "metadata": {
        "id": "b9cuuyEXhLHM"
      },
      "source": [
        "**5. La fórmula semiempírica de la masa (FSM)**\n",
        "\n",
        "En física nuclear, la **fórmula de Weizsäcker** (conocida también como fórmula semiempírica) sirve para evaluar la masa y otras propiedades de un núcleo atómico; y está basada parcialmente en mediciones empíricas. En particular la fórmula se usa para calcular la \\textbf{\\textit{energía de enlace nuclear aproximada}} $B$, de un núcleo atómico con número atómico $Z$ y número de masa $A$:\n",
        "\n",
        "<h3 align=\"center\">$B = a_1 A - a_2 A^{2/3} - a_3 {Z^2\\over A^{1/3}} - a_4 {(A - 2Z)^2\\over A} + {a_5\\over A^{1/2}}$,</h3>\n",
        "\n",
        "donde, en unidades de millones de electrón-volts, las constantes son $a_1=15.8$, $a_2=18.3$, $a_3=0.714$, $a_4=23.2$ y          \n",
        "<h6 align=\"center\">\n",
        "$a_5 =\n",
        "  \\left \\{\n",
        "    \\begin{aligned}\n",
        "      0 & \\; \\text{si} \\ A \\; \\text{es impar,} \\\\\n",
        "      12.0 & \\; \\text{si} \\ A \\; \\text{y} \\; Z \\; \\text{son pares (ambos),} \\\\\n",
        "      -12.0 & \\; \\text{si} \\ A \\; \\text{es par y} \\; Z \\; \\text{impar}\n",
        "    \\end{aligned}\n",
        "  \\right.\n",
        "$\n",
        "</h6>"
      ]
    },
    {
      "cell_type": "markdown",
      "metadata": {
        "id": "H_aSniNjhLHN"
      },
      "source": [
        "**a)** Escribe un programa que tome como entrada los valores de $A$ y $Z$, e imprima la energía de enlace $B$ para el átomo correspondiente. Usa tu programa para encontrar la energía de enlace de un átomo con $A=58$ y $Z=28$ (Hint: La respuesta correcta es alrededor de los $490\\,$MeV)."
      ]
    },
    {
      "cell_type": "code",
      "execution_count": null,
      "metadata": {
        "id": "mjztfNWshLHN"
      },
      "outputs": [],
      "source": []
    },
    {
      "cell_type": "code",
      "execution_count": null,
      "metadata": {
        "id": "lWEgjc1hhLHN"
      },
      "outputs": [],
      "source": []
    },
    {
      "cell_type": "markdown",
      "metadata": {
        "id": "uQZldRgWhLHO"
      },
      "source": [
        "**b)** Modifica el programa del inciso anterior, para escribir una segunda versión que imprima no la energía de enlace total $B$, sino la energía de unión por nucleón, que es $B/A$."
      ]
    },
    {
      "cell_type": "code",
      "execution_count": null,
      "metadata": {
        "id": "YSiPqzDXhLHO"
      },
      "outputs": [],
      "source": []
    },
    {
      "cell_type": "code",
      "execution_count": null,
      "metadata": {
        "id": "fTXjVSBGhLHO"
      },
      "outputs": [],
      "source": []
    },
    {
      "cell_type": "markdown",
      "metadata": {
        "id": "rEMeJXKMhLHO"
      },
      "source": [
        "**c)** Escribe una tercera versión del programa para que tome como entrada solo un valor del número atómico $Z$ y luego pase por todos los valores de $A$ desde $A=Z$ hasta $A=3Z$, para encontrar el que tiene la mayor energía de enlace por nucleón . Este es el núcleo más estable con el número atómico dado. Haz que tu programa imprima el valor de $A$ para este núcleo más estable y el valor de la energía de enlace por nucleón."
      ]
    },
    {
      "cell_type": "code",
      "execution_count": null,
      "metadata": {
        "id": "1NeN1yC0hLHO"
      },
      "outputs": [],
      "source": []
    },
    {
      "cell_type": "code",
      "execution_count": null,
      "metadata": {
        "id": "zKDn3ovlhLHO"
      },
      "outputs": [],
      "source": []
    },
    {
      "cell_type": "markdown",
      "metadata": {
        "id": "R_VtRYoXhLHO"
      },
      "source": [
        "**d)** Finalmente, escribe una cuarta versión del programa que, en lugar de tomar $Z$ como entrada, se ejecute a través de todos los valores de $Z$ de 1 a 100 e imprima el valor más estable de $A$ para cada uno. ¿A qué valor de $Z$ se produce la energía de enlace máxima por nucleón? (La respuesta correcta, en la vida real, es $Z=28$, que corresponde al Níquel)."
      ]
    },
    {
      "cell_type": "code",
      "execution_count": null,
      "metadata": {
        "id": "DA-Mk9R-hLHO"
      },
      "outputs": [],
      "source": []
    },
    {
      "cell_type": "code",
      "execution_count": null,
      "metadata": {
        "id": "BGsSwKmlhLHP"
      },
      "outputs": [],
      "source": []
    }
  ],
  "metadata": {
    "kernelspec": {
      "display_name": "Python 3",
      "name": "python3"
    },
    "language_info": {
      "name": "python"
    },
    "colab": {
      "provenance": [],
      "include_colab_link": true
    }
  },
  "nbformat": 4,
  "nbformat_minor": 0
}